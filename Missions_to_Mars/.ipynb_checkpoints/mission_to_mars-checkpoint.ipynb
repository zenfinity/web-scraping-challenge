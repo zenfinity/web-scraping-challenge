{
 "cells": [
  {
   "cell_type": "markdown",
   "metadata": {},
   "source": [
    "Complete your initial scraping using Jupyter Notebook, BeautifulSoup, Pandas, and Requests/Splinter."
   ]
  },
  {
   "cell_type": "code",
   "execution_count": 1,
   "metadata": {},
   "outputs": [],
   "source": [
    "# Dependencies\n",
    "from bs4 import BeautifulSoup\n",
    "import requests\n",
    "import os\n",
    "from splinter import Browser\n",
    "import re\n",
    "import pandas as pd\n",
    "import time"
   ]
  },
  {
   "cell_type": "code",
   "execution_count": 2,
   "metadata": {},
   "outputs": [],
   "source": [
    "executable_path = {'executable_path': '/usr/local/bin/chromedriver'}\n",
    "browser = Browser('chrome', **executable_path, headless=False)"
   ]
  },
  {
   "cell_type": "markdown",
   "metadata": {},
   "source": [
    "### Get first news headline and summary text"
   ]
  },
  {
   "cell_type": "code",
   "execution_count": null,
   "metadata": {},
   "outputs": [],
   "source": [
    "# URL of page to be scraped\n",
    "url = \"https://mars.nasa.gov/news\""
   ]
  },
  {
   "cell_type": "code",
   "execution_count": null,
   "metadata": {},
   "outputs": [],
   "source": [
    "# Retrieve page with the requests module\n",
    "#response = requests.get(url)\n",
    "browser.visit(url)"
   ]
  },
  {
   "cell_type": "code",
   "execution_count": null,
   "metadata": {},
   "outputs": [],
   "source": [
    "html = browser.html\n"
   ]
  },
  {
   "cell_type": "code",
   "execution_count": null,
   "metadata": {},
   "outputs": [],
   "source": [
    "# Create BeautifulSoup object; parse with 'html.parser'\n",
    "soup = BeautifulSoup(html,'html.parser')"
   ]
  },
  {
   "cell_type": "code",
   "execution_count": null,
   "metadata": {},
   "outputs": [],
   "source": [
    "#soup_output_file = open(r\"soup_output.txt\",\"w\")\n",
    "#soup_output_file.write(soup.prettify())\n",
    "#soup_output_file.close()"
   ]
  },
  {
   "cell_type": "code",
   "execution_count": null,
   "metadata": {},
   "outputs": [],
   "source": [
    "#results are returned as an iterable list\n",
    "# article_title =  soup.find('div', {'class' : \"bottom_gradient\"}, {'class': 'content_title'})\n",
    "# article_title =  soup.find('div', 'a', {'class': 'content_title'})\n",
    "# print(article_title)\n",
    "# article_title.text"
   ]
  },
  {
   "cell_type": "code",
   "execution_count": null,
   "metadata": {},
   "outputs": [],
   "source": [
    "article_titles = []\n",
    "for div in soup.find_all('div', attrs={'class':'content_title'}):\n",
    "    article_titles.append(div.find('a'))\n",
    "article_titles[1].text"
   ]
  },
  {
   "cell_type": "code",
   "execution_count": null,
   "metadata": {},
   "outputs": [],
   "source": [
    "article_summary = soup.find('div', {'class': 'article_teaser_body'})\n",
    "article_summary.text"
   ]
  },
  {
   "cell_type": "markdown",
   "metadata": {},
   "source": [
    "### Get featured image"
   ]
  },
  {
   "cell_type": "code",
   "execution_count": null,
   "metadata": {},
   "outputs": [],
   "source": [
    "url_featured_image = \"https://www.jpl.nasa.gov/spaceimages/?search=&category=Mars\""
   ]
  },
  {
   "cell_type": "code",
   "execution_count": null,
   "metadata": {},
   "outputs": [],
   "source": [
    "browser.visit(url_featured_image)\n"
   ]
  },
  {
   "cell_type": "code",
   "execution_count": null,
   "metadata": {},
   "outputs": [],
   "source": [
    "html_featured_image = browser.html\n",
    "#html_featured_image\n",
    "soup_featured_image = BeautifulSoup(html_featured_image,'html.parser')"
   ]
  },
  {
   "cell_type": "code",
   "execution_count": null,
   "metadata": {},
   "outputs": [],
   "source": [
    "details_link = soup_featured_image.find('article', class_='carousel_item')\n",
    "details_link_parsed = details_link['style'][22:-1].strip(')').strip(\"'\")\n",
    "details_link_parsed"
   ]
  },
  {
   "cell_type": "code",
   "execution_count": null,
   "metadata": {},
   "outputs": [],
   "source": [
    "domain_link = url_featured_image.split(\"/\")\n",
    "domain_link"
   ]
  },
  {
   "cell_type": "code",
   "execution_count": null,
   "metadata": {},
   "outputs": [],
   "source": [
    "featured_image_url = f\"{domain_link[0]}//{domain_link[2]}{details_link_parsed}\"\n",
    "featured_image_url"
   ]
  },
  {
   "cell_type": "markdown",
   "metadata": {},
   "source": [
    "### Mars Weather"
   ]
  },
  {
   "cell_type": "code",
   "execution_count": null,
   "metadata": {},
   "outputs": [],
   "source": [
    "weather_url = \"https://twitter.com/marswxreport?lang=en\""
   ]
  },
  {
   "cell_type": "code",
   "execution_count": null,
   "metadata": {},
   "outputs": [],
   "source": [
    "browser.visit(weather_url)"
   ]
  },
  {
   "cell_type": "code",
   "execution_count": null,
   "metadata": {},
   "outputs": [],
   "source": [
    "html_weather = browser.html\n",
    "soup_weather = BeautifulSoup(html_weather,'html.parser')\n",
    "\n",
    "mars_weathers = soup_weather.find_all('span')\n",
    "for tag in mars_weathers:\n",
    "    #print(tag.text)\n",
    "    if \"InSight\" in tag.text:\n",
    "        mars_weather = tag.text\n",
    "\n",
    "mars_weather"
   ]
  },
  {
   "cell_type": "markdown",
   "metadata": {},
   "source": [
    "### Mars Facts Table"
   ]
  },
  {
   "cell_type": "code",
   "execution_count": null,
   "metadata": {},
   "outputs": [],
   "source": [
    "facts_url = \"https://space-facts.com/mars/\""
   ]
  },
  {
   "cell_type": "code",
   "execution_count": null,
   "metadata": {},
   "outputs": [],
   "source": [
    "browser.visit(facts_url)"
   ]
  },
  {
   "cell_type": "code",
   "execution_count": null,
   "metadata": {},
   "outputs": [],
   "source": [
    "tables = pd.read_html(facts_url)\n",
    "tables"
   ]
  },
  {
   "cell_type": "code",
   "execution_count": null,
   "metadata": {},
   "outputs": [],
   "source": [
    "df = tables[0]\n",
    "df"
   ]
  },
  {
   "cell_type": "code",
   "execution_count": null,
   "metadata": {},
   "outputs": [],
   "source": [
    "df.rename(columns={0:\"Attribute\",1:\"Value\"},inplace=True)\n",
    "df.set_index(\"Attribute\",inplace=True)\n",
    "df"
   ]
  },
  {
   "cell_type": "code",
   "execution_count": null,
   "metadata": {},
   "outputs": [],
   "source": [
    "html_table = df.to_html()\n",
    "html_table.replace('\\n', '') #If it looks weird on the page, change to inplace=True \n",
    "df.to_html('table.html')\n",
    "#!open table.html"
   ]
  },
  {
   "cell_type": "code",
   "execution_count": null,
   "metadata": {},
   "outputs": [],
   "source": [
    "html_table"
   ]
  },
  {
   "cell_type": "markdown",
   "metadata": {},
   "source": [
    "### Mars Hemispere Images"
   ]
  },
  {
   "cell_type": "markdown",
   "metadata": {},
   "source": [
    "Use a Python dictionary to store the data using the keys img_url and title"
   ]
  },
  {
   "cell_type": "code",
   "execution_count": 3,
   "metadata": {},
   "outputs": [],
   "source": [
    "url_hemispheres_start = \"https://astrogeology.usgs.gov/search/results?q=hemisphere+enhanced&k1=target&v1=Mars\"\n"
   ]
  },
  {
   "cell_type": "code",
   "execution_count": 4,
   "metadata": {},
   "outputs": [],
   "source": [
    "browser.visit(url_hemispheres_start)\n",
    "html_hemisphereStart = browser.html\n",
    "soup_hemisphereStart = BeautifulSoup(html_hemisphereStart,'html.parser')"
   ]
  },
  {
   "cell_type": "code",
   "execution_count": 5,
   "metadata": {},
   "outputs": [
    {
     "data": {
      "text/plain": [
       "['Cerberus Hemisphere Enhanced',\n",
       " 'Schiaparelli Hemisphere Enhanced',\n",
       " 'Syrtis Major Hemisphere Enhanced',\n",
       " 'Valles Marineris Hemisphere Enhanced']"
      ]
     },
     "execution_count": 5,
     "metadata": {},
     "output_type": "execute_result"
    }
   ],
   "source": [
    "#Grab title, and remove blanks\n",
    "hemisphereImageTitles = []\n",
    "for a in soup_hemisphereStart.find_all('a',href=True, attrs={'class':'itemLink'}):\n",
    "    hemisphereImageTitles.append(a.text)\n",
    "hemisphereImageTitles = list(filter(None, hemisphereImageTitles)) \n",
    "hemisphereImageTitles"
   ]
  },
  {
   "cell_type": "code",
   "execution_count": 6,
   "metadata": {},
   "outputs": [
    {
     "data": {
      "text/plain": [
       "['https://astrogeology.usgs.gov/search/map/Mars/Viking/cerberus_enhanced',\n",
       " 'https://astrogeology.usgs.gov/search/map/Mars/Viking/schiaparelli_enhanced',\n",
       " 'https://astrogeology.usgs.gov/search/map/Mars/Viking/syrtis_major_enhanced',\n",
       " 'https://astrogeology.usgs.gov/search/map/Mars/Viking/valles_marineris_enhanced']"
      ]
     },
     "execution_count": 6,
     "metadata": {},
     "output_type": "execute_result"
    }
   ],
   "source": [
    "#Grab links from a tags\n",
    "hemisphereLinks = []\n",
    "for a in soup_hemisphereStart.find_all('a',href=True, attrs={'class':'itemLink'}):\n",
    "    hemisphereLinks.append(a['href'])\n",
    "#remove duplicates\n",
    "hemisphereLinks = list(dict.fromkeys(hemisphereLinks))\n",
    "#Concatenate base url to get full link\n",
    "domain_link_hemisphere = url_hemispheres_start.split(\"/\")\n",
    "hemisphereLinks = [f\"{domain_link_hemisphere[0]}//{domain_link_hemisphere[2]}{url}\"  for url in hemisphereLinks ]\n",
    "hemisphereLinks"
   ]
  },
  {
   "cell_type": "code",
   "execution_count": 7,
   "metadata": {},
   "outputs": [],
   "source": [
    "#Make one page work\n",
    "#text=re.compile(\"Original\"),\n",
    "# for a in soup.find_all('a',href=True, attrs={'class':'itemLink'}):\n",
    "#     hemisphereLinks.append(a['href'])\n",
    "# hemisphereLinks\n",
    "# hemisphereImageLinks = []\n",
    "# hemisphereImagePageLinks = []\n",
    "#print(hemisphereLinks[0])\n",
    "# browser.visit(hemisphereLinks[0])\n",
    "# html_hemisphereImagePage = browser.html\n",
    "# soup_hemisphereImagePage = BeautifulSoup(html_hemisphereImagePage,'html.parser')\n",
    "#hemisphereImageLink = hemisphereImageLinks[2]\n",
    "#hemisphereImageLink\n",
    "#print(soup_hemisphereImagePage.prettify())\n",
    "#time.sleep(1)\n",
    "#for div in soup_hemisphereStart.find_all('div', attrs={'class':'downloads'}):\n",
    "# for li in soup_hemisphereImagePage.find_all('li'):\n",
    "#     #for a in li.find('a', text=re.compile(\"Original\")):\n",
    "#     hemisphereImageLinks.append(li.a.get('href'))\n",
    "#     #print(li)\n",
    "#     #print(li.a.get('href'))\n",
    "# #print(hemisphereImageLinks)\n",
    "# hemisphereImageLink = hemisphereImageLinks[5]\n",
    "# hemisphereImageLink"
   ]
  },
  {
   "cell_type": "code",
   "execution_count": null,
   "metadata": {},
   "outputs": [],
   "source": []
  },
  {
   "cell_type": "code",
   "execution_count": 24,
   "metadata": {},
   "outputs": [
    {
     "name": "stdout",
     "output_type": "stream",
     "text": [
      "hemisphereImageLinks ['https://astropedia.astrogeology.usgs.gov/download/Mars/Viking/cerberus_enhanced.tif', 'https://astropedia.astrogeology.usgs.gov/download/Mars/Viking/schiaparelli_enhanced.tif', 'https://astropedia.astrogeology.usgs.gov/download/Mars/Viking/syrtis_major_enhanced.tif', 'https://astropedia.astrogeology.usgs.gov/download/Mars/Viking/valles_marineris_enhanced.tif']\n"
     ]
    }
   ],
   "source": [
    "#Loop through links to grab image urls there\n",
    "#,href=True, attrs={'target':'_blank'}\n",
    "hemisphereImageLinks = []\n",
    "hemisphereImagePageLinks = []\n",
    "for url in hemisphereLinks:\n",
    "    browser.visit(url)\n",
    "    time.sleep(3)\n",
    "    html_hemisphereImagePage = browser.html\n",
    "    soup_hemisphereImagePage = BeautifulSoup(html_hemisphereImagePage,'html.parser')\n",
    "    \n",
    "    li = soup_hemisphereImagePage.find_all('li')[1]\n",
    "\n",
    "    hemisphereImageLinks.append(li.a.get('href'))\n",
    "\n",
    "hemisphereImagePageLinks\n",
    "print(f\"hemisphereImageLinks {hemisphereImageLinks}\")"
   ]
  },
  {
   "cell_type": "code",
   "execution_count": 26,
   "metadata": {},
   "outputs": [
    {
     "data": {
      "text/plain": [
       "[{'title': 'Cerberus Hemisphere Enhanced',\n",
       "  'img_url': 'https://astropedia.astrogeology.usgs.gov/download/Mars/Viking/cerberus_enhanced.tif'},\n",
       " {'title': 'Schiaparelli Hemisphere Enhanced',\n",
       "  'img_url': 'https://astropedia.astrogeology.usgs.gov/download/Mars/Viking/schiaparelli_enhanced.tif'},\n",
       " {'title': 'Syrtis Major Hemisphere Enhanced',\n",
       "  'img_url': 'https://astropedia.astrogeology.usgs.gov/download/Mars/Viking/syrtis_major_enhanced.tif'},\n",
       " {'title': 'Valles Marineris Hemisphere Enhanced',\n",
       "  'img_url': 'https://astropedia.astrogeology.usgs.gov/download/Mars/Viking/valles_marineris_enhanced.tif'}]"
      ]
     },
     "execution_count": 26,
     "metadata": {},
     "output_type": "execute_result"
    }
   ],
   "source": [
    "# hemisphereImages = list(dict(zip(\"title\",hemisphereImageTitles),zip(\"img_url\",hemisphereImagePageLinks))\n",
    "# print(hemisphereImages)\n",
    "hemisphereImages = []\n",
    "# for title in hemisphereImageTitles:\n",
    "#     hemisphereImages.append({\"title\":title})\n",
    "# for url in hemisphereImagePageLinks:\n",
    "#     hemisphereImages.append({\"img_url\":url})\n",
    "\n",
    "# for title in hemisphereImageTitles:\n",
    "#     for url in hemisphereImagePageLinks:\n",
    "#         hemisphereImages.append({\"title\":title,\n",
    "#                             \"img_url\":url})\n",
    "#hemisphereImages = dict(zip(hemisphereImageTitles,hemisphereImagePageLinks))\n",
    "#list_of_dict = [{'key1': L1, 'key2': L2} for (L1,L2) in zip(list_1,list_2)]\n",
    "hemisphereImages = [{'title' : title, 'img_url':img} for (title,img) in zip(hemisphereImageTitles,hemisphereImageLinks)]\n",
    "# for i in range(len(hemisphereImages)): \n",
    "#     if i not in hemisphereImages: \n",
    "#         hemisphereImages.append(i) \n",
    "hemisphereImages"
   ]
  },
  {
   "cell_type": "markdown",
   "metadata": {},
   "source": [
    "### MongoDB and Flask Application"
   ]
  },
  {
   "cell_type": "markdown",
   "metadata": {},
   "source": [
    "Need to get everything into a dictionary first"
   ]
  },
  {
   "cell_type": "code",
   "execution_count": null,
   "metadata": {},
   "outputs": [],
   "source": [
    "mars_info = {'News':\n",
    "                {'Headline': article_titles[1].text,\n",
    "                'Summary': article_summary},\n",
    "            'FeaturedImage': featured_image_url,\n",
    "            'Weather': mars_weather,\n",
    "            'Facts':html_table,\n",
    "            'Hemi'}  #Add hemisphere images"
   ]
  },
  {
   "cell_type": "code",
   "execution_count": null,
   "metadata": {},
   "outputs": [],
   "source": [
    "mars_info"
   ]
  },
  {
   "cell_type": "code",
   "execution_count": null,
   "metadata": {},
   "outputs": [],
   "source": []
  }
 ],
 "metadata": {
  "kernelspec": {
   "display_name": "Python 3",
   "language": "python",
   "name": "python3"
  },
  "language_info": {
   "codemirror_mode": {
    "name": "ipython",
    "version": 3
   },
   "file_extension": ".py",
   "mimetype": "text/x-python",
   "name": "python",
   "nbconvert_exporter": "python",
   "pygments_lexer": "ipython3",
   "version": "3.6.10"
  }
 },
 "nbformat": 4,
 "nbformat_minor": 4
}
